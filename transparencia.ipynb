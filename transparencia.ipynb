{
 "cells": [
  {
   "cell_type": "code",
   "execution_count": 375,
   "metadata": {
    "collapsed": true
   },
   "outputs": [],
   "source": [
    "import pandas as pd\n",
    "import requests\n",
    "from bs4 import BeautifulSoup\n",
    "from splinter import Browser"
   ]
  },
  {
   "cell_type": "code",
   "execution_count": 376,
   "metadata": {
    "collapsed": true
   },
   "outputs": [],
   "source": [
    "url_base = 'http://transparencia.gov.br/servidores/Servidor-ListaServidores.asp'"
   ]
  },
  {
   "cell_type": "code",
   "execution_count": 377,
   "metadata": {},
   "outputs": [],
   "source": [
    "browser = Browser('chrome')"
   ]
  },
  {
   "cell_type": "code",
   "execution_count": 378,
   "metadata": {
    "collapsed": true
   },
   "outputs": [],
   "source": [
    "browser.visit(url_base)"
   ]
  },
  {
   "cell_type": "code",
   "execution_count": 379,
   "metadata": {
    "collapsed": true
   },
   "outputs": [],
   "source": [
    "browser.fill('Pesquisa','09713437721')"
   ]
  },
  {
   "cell_type": "code",
   "execution_count": 380,
   "metadata": {
    "collapsed": true
   },
   "outputs": [],
   "source": [
    "button = browser.find_by_value('ok')"
   ]
  },
  {
   "cell_type": "code",
   "execution_count": 381,
   "metadata": {},
   "outputs": [],
   "source": [
    "button.click()"
   ]
  },
  {
   "cell_type": "code",
   "execution_count": 382,
   "metadata": {},
   "outputs": [],
   "source": [
    "link = browser.find_link_by_partial_href('DetalhaServidor')"
   ]
  },
  {
   "cell_type": "code",
   "execution_count": 383,
   "metadata": {},
   "outputs": [],
   "source": [
    "if len(link) == 0:\n",
    "    print('Servidor não encontrado')\n",
    "else:\n",
    "    link.first.click()"
   ]
  },
  {
   "cell_type": "code",
   "execution_count": 386,
   "metadata": {},
   "outputs": [],
   "source": [
    "html_content = requests.get(browser.url)"
   ]
  },
  {
   "cell_type": "code",
   "execution_count": 433,
   "metadata": {},
   "outputs": [],
   "source": [
    "soup = BeautifulSoup(html_content.content,'html.parser')"
   ]
  },
  {
   "cell_type": "code",
   "execution_count": 434,
   "metadata": {},
   "outputs": [],
   "source": [
    "browser.quit()"
   ]
  },
  {
   "cell_type": "code",
   "execution_count": 435,
   "metadata": {},
   "outputs": [],
   "source": [
    "table = soup.find_all('table')"
   ]
  },
  {
   "cell_type": "code",
   "execution_count": 436,
   "metadata": {},
   "outputs": [],
   "source": [
    "tabela_vinculos = soup.find_all('div',{\"id\":\"listagemConvenios\"})"
   ]
  },
  {
   "cell_type": "code",
   "execution_count": 437,
   "metadata": {},
   "outputs": [
    {
     "data": {
      "text/plain": [
       "bs4.element.Tag"
      ]
     },
     "execution_count": 437,
     "metadata": {},
     "output_type": "execute_result"
    }
   ],
   "source": [
    "type(tabela_vinculos[0])"
   ]
  },
  {
   "cell_type": "code",
   "execution_count": 438,
   "metadata": {},
   "outputs": [],
   "source": [
    "tabela_externa = tabela_vinculos[0].find('table')"
   ]
  },
  {
   "cell_type": "code",
   "execution_count": 439,
   "metadata": {},
   "outputs": [
    {
     "data": {
      "text/plain": [
       "1"
      ]
     },
     "execution_count": 439,
     "metadata": {},
     "output_type": "execute_result"
    }
   ],
   "source": [
    "len(tabela_externa)"
   ]
  },
  {
   "cell_type": "code",
   "execution_count": 440,
   "metadata": {},
   "outputs": [],
   "source": [
    "tabelas_vinculos = tabela_externa.find_all('table')"
   ]
  },
  {
   "cell_type": "code",
   "execution_count": 441,
   "metadata": {},
   "outputs": [
    {
     "data": {
      "text/plain": [
       "2"
      ]
     },
     "execution_count": 441,
     "metadata": {},
     "output_type": "execute_result"
    }
   ],
   "source": [
    "len(tabelas_vinculos)"
   ]
  },
  {
   "cell_type": "code",
   "execution_count": 597,
   "metadata": {},
   "outputs": [],
   "source": [
    "vinculo = tabelas_vinculos[0].find('tbody')"
   ]
  },
  {
   "cell_type": "code",
   "execution_count": 598,
   "metadata": {},
   "outputs": [],
   "source": [
    "lista = []\n",
    "lst = []\n",
    "for linha in vinculo:\n",
    "\n",
    "    prop = linha.find(\"td\")\n",
    "    valor = linha.find(\"strong\")\n",
    "    lst.append(prop)\n",
    "    lst.append(valor)\n",
    "    lista.append(lst)\n",
    "    lst=[]"
   ]
  },
  {
   "cell_type": "code",
   "execution_count": 599,
   "metadata": {},
   "outputs": [],
   "source": [
    "lista_dicts = []\n",
    "lst = []\n",
    "cpf = '09713437721'\n",
    "lst.append('cpf')\n",
    "lst.append(cpf)\n",
    "lista_dicts.append(lst)\n",
    "lst = []\n",
    "for item in lista:\n",
    "    if item != [-1, -1] and len(item) > 0:\n",
    "        \n",
    "        try:\n",
    "            prop = item[0].text.replace(':','').replace('\\xa0 ','').strip()\n",
    "            value = item[1].text.replace(':','').replace('\\xa0 ','').strip()\n",
    "            lst.append(prop)\n",
    "            lst.append(value)\n",
    "            lista_dicts.append(lst)\n",
    "            lst = []\n",
    "        except AttributeError:\n",
    "            prop = item[0].text.replace(':','').replace('\\xa0 ','').strip()\n",
    "            value = ''\n",
    "            lst.append(prop)\n",
    "            lst.append(value)\n",
    "            lista_dicts.append(lst)\n",
    "            lst = []\n",
    "    else:\n",
    "        pass"
   ]
  },
  {
   "cell_type": "code",
   "execution_count": 600,
   "metadata": {},
   "outputs": [
    {
     "data": {
      "text/plain": [
       "[['cpf', '09713437721'],\n",
       " ['Matrícula', '182****'],\n",
       " ['Função', ''],\n",
       " ['Sigla - Descrição', 'DAS 101.4 - DIRECAO E ASSESSORAMENTO SUPERIOR'],\n",
       " ['Atividade', 'COORDENADOR GERAL'],\n",
       " ['Opção parcial', 'Sim'],\n",
       " ['Local de Exercício - Localização', ''],\n",
       " ['UF', 'DF'],\n",
       " ['UORG', 'COORD-GER INFORMACOES/SE/CC'],\n",
       " ['Órgão', 'PRESIDENCIA DA REPUBLICA'],\n",
       " ['Órgão Superior', 'PRESIDENCIA DA REPUBLICA'],\n",
       " ['Órgão Origem - Lotação', ''],\n",
       " ['UORG', 'Co-Geral Sist Int Adm Serv Gerais-SLTI'],\n",
       " ['Órgão', 'MINISTERIO DO PLANEJ. DESENV. E GESTAO'],\n",
       " ['Órgão Superior', 'MINISTERIO DO PLANEJ. DESENV. E GESTAO'],\n",
       " ['Regime Jurídico', 'REGIME JURIDICO UNICO'],\n",
       " ['Situação Vínculo', 'EXERC DESCENT CARREI'],\n",
       " ['Ocorrência de Afastamento/Licença', 'NÃO'],\n",
       " ['Jornada de Trabalho', '40 HORAS SEMANAIS'],\n",
       " ['Data da última alteração na função', '24/11/2016'],\n",
       " ['Data de nomeação/contratação', ''],\n",
       " ['Ato de nomeação/contratação', ''],\n",
       " ['Data da última alteração no Órgão', '30/01/2013'],\n",
       " ['Ato de Ingresso no Órgão', 'PORTARIA'],\n",
       " ['Ingresso no Serviço Público', ''],\n",
       " ['Documento Legal', 'PORTARIA'],\n",
       " ['Número Doc. Legal', '825'],\n",
       " ['Data de publicação', '11/10/2010']]"
      ]
     },
     "execution_count": 600,
     "metadata": {},
     "output_type": "execute_result"
    }
   ],
   "source": [
    "lista_dicts"
   ]
  },
  {
   "cell_type": "code",
   "execution_count": null,
   "metadata": {},
   "outputs": [],
   "source": []
  },
  {
   "cell_type": "code",
   "execution_count": null,
   "metadata": {
    "collapsed": true
   },
   "outputs": [],
   "source": []
  }
 ],
 "metadata": {
  "kernelspec": {
   "display_name": "Python 3",
   "language": "python",
   "name": "python3"
  },
  "language_info": {
   "codemirror_mode": {
    "name": "ipython",
    "version": 3
   },
   "file_extension": ".py",
   "mimetype": "text/x-python",
   "name": "python",
   "nbconvert_exporter": "python",
   "pygments_lexer": "ipython3",
   "version": "3.5.0"
  }
 },
 "nbformat": 4,
 "nbformat_minor": 2
}
